{
 "cells": [
  {
   "cell_type": "markdown",
   "metadata": {},
   "source": [
    "As the demand for electric vehicles and energy storage increases, more and more giga battey factories are built and put into use. As the scale of production increases, economies of scale will help manufacturers produce batteries at a lower cost. In this example, we will study the impact of production scale on battery cost."
   ]
  },
  {
   "cell_type": "code",
   "execution_count": 7,
   "metadata": {},
   "outputs": [
    {
     "ename": "UndefVarError",
     "evalue": "UndefVarError: cell not defined",
     "output_type": "error",
     "traceback": [
      "UndefVarError: cell not defined\n",
      "\n",
      "Stacktrace:\n",
      " [1] top-level scope\n",
      "   @ ~/Desktop/Labwork/BatteryCost/Examples/Example_Cost_MFG_Capacity.ipynb:3"
     ]
    }
   ],
   "source": [
    "include(\"../src/PBCM_IO.jl\")\n",
    "\n",
    "cell_general = cell()\n",
    "cell_design_op = cylindrical_cell_designer(cell_general)\n",
    "cost = cost_default()\n",
    "cell_general, cost = convert_all(cell_general, cost, mult)\n",
    "\n",
    "\n",
    "\n",
    "\n",
    "using PyPlot\n",
    "\n",
    "    ###################################################### USD/kWh vs MWH/year  #####################################################################\n",
    "cell_general.cathode.por = 0.3\n",
    "cost.cell_costs.anode.AM[1] = 10.57\n",
    "cost.cell_costs.cathode.AM[1] = 17.0\n",
    "cell_general.cathode.th       = converter(150.0, mult.pos_th)\n",
    "cost_calc(cell_general, cost, system=\"Cell\", cost_verbosity = 0)\n",
    "\n",
    "\n",
    "clf()\n",
    "data = [\"NCA\", \"NMC622\", \"LFP\"]\n",
    "AM_rho_data = [4.71, 4.8, 3.6]\n",
    "rev_sp_cap_data  = [0.180, 0.171, 0.150]\n",
    "AM_price_data = [26.43, 17.83, 5.07]\n",
    "\n",
    "for j in range(1, 3, step=1)\n",
    "    cell_general.cathode.AM_rho = AM_rho_data[j]\n",
    "    cell_general.cathode.rev_sp_cap = rev_sp_cap_data[j]\n",
    "    cost.cell_costs.cathode.AM[1] =  AM_price_data[j]\n",
    "    param_x = []\n",
    "    param_y = []\n",
    "\n",
    "    for i in range(10, 120, length=1000)\n",
    "        # cost.material.pos_AM[1] = i\n",
    "        cost.general_costs.no_units_mfg = converter(i, mult.units_mfg)\n",
    "        dollars_per_kWh, mfg_capacity = cost_calc(cell_general, cost, system=\"Cell\", cost_verbosity=0)\n",
    "        append!(param_y, dollars_per_kWh)\n",
    "        append!(param_x, mfg_capacity)\n",
    "    end\n",
    "    plot(param_x, param_y)\n",
    "end\n",
    "\n",
    "\n",
    "xlabel(String(\"MWh/year\"))\n",
    "ylabel(\"Dollars per kWh\")\n",
    "title(\"Cost vs. MFG Capacity\")\n",
    "legend(data)\n",
    "figure(2)"
   ]
  },
  {
   "cell_type": "markdown",
   "metadata": {},
   "source": [
    "The plot above shows the economies of scale for NCA, NMC622 and LFP with the cost data present in the script above. As we manufacture more cells, the unit material costs decrease as a result of more annual demand.  Scale effect and learning will become an important driving force for battery cost reduction."
   ]
  },
  {
   "cell_type": "code",
   "execution_count": 8,
   "metadata": {},
   "outputs": [],
   "source": []
  }
 ],
 "metadata": {
  "kernelspec": {
   "display_name": "Julia 1.8.0",
   "language": "julia",
   "name": "julia-1.8"
  },
  "language_info": {
   "file_extension": ".jl",
   "mimetype": "application/julia",
   "name": "julia",
   "version": "1.8.0"
  }
 },
 "nbformat": 4,
 "nbformat_minor": 4
}
